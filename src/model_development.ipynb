{
 "cells": [
  {
   "cell_type": "markdown",
   "metadata": {},
   "source": [
    "# This notebook shows data aggregation, exploratory analysis and model development"
   ]
  },
  {
   "cell_type": "code",
   "execution_count": 1,
   "metadata": {},
   "outputs": [
    {
     "name": "stdout",
     "output_type": "stream",
     "text": [
      " ...Loading Master Dictionary 85000\n",
      "Master Dictionary loaded from file: \n",
      "  LoughranMcDonald_MasterDictionary_2014.csv\n",
      "  85,131 words loaded in master_dictionary.\n",
      "\n"
     ]
    }
   ],
   "source": [
    "from data_prep import *\n",
    "import csv\n",
    "import time \n",
    "from random import randint\n",
    "import glob\n",
    "import sys\n",
    "import matplotlib.pyplot as plt\n",
    "%matplotlib inline\n",
    "from scipy.interpolate import interp1d\n",
    "import pickle\n",
    "import os"
   ]
  },
  {
   "cell_type": "code",
   "execution_count": 2,
   "metadata": {},
   "outputs": [],
   "source": [
    "# Merge earnings call features with stock info for one company\n",
    "def one_company_earnings_stock(company_name,time_window):\n",
    "    \n",
    "    # Load earnings call csv data\n",
    "    path = os.getcwd()\n",
    "    path = path[:-3]\n",
    "    path = path + 'data/'\n",
    "    earnings_txt = pd.read_csv(path + company_name + '_earnings_call.csv')\n",
    "    \n",
    "    # Offset 12 hours because (1) UTC is 4 or 5 hours ahead ET \n",
    "    # (2) the transcript could be posted the next morning if the call was at late evening. \n",
    "    time_earnings = pd.to_datetime(earnings_txt['time']) - timedelta(days=0.5)\n",
    "    time_earnings = pd.to_datetime(time_earnings.apply(datetime.date))\n",
    "    \n",
    "    # Extract tones from earnings call transcript\n",
    "    tones = earnings_txt['full_text'].apply(parse_one_call_transcript)\n",
    "    tone_intro = []\n",
    "    tone_qna = []\n",
    "    tone_ab = []\n",
    "    for tone in tones:\n",
    "        tone_intro.append(tone[0])\n",
    "        tone_qna.append(tone[1])\n",
    "        tone_ab.append(tone[2])\n",
    "    \n",
    "    # Insert earnings call tones and company name into a data frame\n",
    "    earnings_stock = pd.DataFrame(time_earnings,columns = ['time'])\n",
    "    ticker = ticker_list[company_name]\n",
    "    earnings_stock['company'] = ticker\n",
    "    earnings_stock['tone_intro'] = tone_intro\n",
    "    earnings_stock['tone_qna'] = tone_qna\n",
    "    earnings_stock['tone_ab'] = tone_ab\n",
    "    \n",
    "    # Compute stock change\n",
    "    stock_change = earnings_stock['time'].apply(compute_stock_prop,args = (ticker,time_window))\n",
    "    price_change = []\n",
    "    vola_change = []\n",
    "    for change in stock_change:\n",
    "        price_change.append(change[0])\n",
    "        vola_change.append(change[1])\n",
    "        \n",
    "    # Add stock info to the data frame\n",
    "    earnings_stock['price_change'] = price_change\n",
    "    earnings_stock['vola_change'] = vola_change   \n",
    "        \n",
    "    return earnings_stock"
   ]
  },
  {
   "cell_type": "markdown",
   "metadata": {},
   "source": [
    "# Exploratory data analysis, have a sense of earnings call and stock for each tech company"
   ]
  },
  {
   "cell_type": "code",
   "execution_count": 3,
   "metadata": {},
   "outputs": [
    {
     "data": {
      "text/html": [
       "<div>\n",
       "<style scoped>\n",
       "    .dataframe tbody tr th:only-of-type {\n",
       "        vertical-align: middle;\n",
       "    }\n",
       "\n",
       "    .dataframe tbody tr th {\n",
       "        vertical-align: top;\n",
       "    }\n",
       "\n",
       "    .dataframe thead th {\n",
       "        text-align: right;\n",
       "    }\n",
       "</style>\n",
       "<table border=\"1\" class=\"dataframe\">\n",
       "  <thead>\n",
       "    <tr style=\"text-align: right;\">\n",
       "      <th></th>\n",
       "      <th>time</th>\n",
       "      <th>company</th>\n",
       "      <th>tone_intro</th>\n",
       "      <th>tone_qna</th>\n",
       "      <th>tone_ab</th>\n",
       "      <th>price_change</th>\n",
       "      <th>vola_change</th>\n",
       "    </tr>\n",
       "  </thead>\n",
       "  <tbody>\n",
       "    <tr>\n",
       "      <th>0</th>\n",
       "      <td>2018-02-01</td>\n",
       "      <td>AAPL</td>\n",
       "      <td>2.150873</td>\n",
       "      <td>0.374625</td>\n",
       "      <td>1.776247</td>\n",
       "      <td>-0.056756</td>\n",
       "      <td>0.286357</td>\n",
       "    </tr>\n",
       "    <tr>\n",
       "      <th>1</th>\n",
       "      <td>2018-05-01</td>\n",
       "      <td>AAPL</td>\n",
       "      <td>2.279202</td>\n",
       "      <td>0.935270</td>\n",
       "      <td>1.343933</td>\n",
       "      <td>0.109138</td>\n",
       "      <td>-0.027829</td>\n",
       "    </tr>\n",
       "    <tr>\n",
       "      <th>2</th>\n",
       "      <td>2018-07-31</td>\n",
       "      <td>AAPL</td>\n",
       "      <td>2.106742</td>\n",
       "      <td>0.402253</td>\n",
       "      <td>1.704489</td>\n",
       "      <td>0.082873</td>\n",
       "      <td>0.471193</td>\n",
       "    </tr>\n",
       "    <tr>\n",
       "      <th>3</th>\n",
       "      <td>2018-11-01</td>\n",
       "      <td>AAPL</td>\n",
       "      <td>2.369668</td>\n",
       "      <td>0.630252</td>\n",
       "      <td>1.739416</td>\n",
       "      <td>-0.080730</td>\n",
       "      <td>1.200595</td>\n",
       "    </tr>\n",
       "    <tr>\n",
       "      <th>4</th>\n",
       "      <td>2017-01-31</td>\n",
       "      <td>AAPL</td>\n",
       "      <td>2.786710</td>\n",
       "      <td>1.045053</td>\n",
       "      <td>1.741656</td>\n",
       "      <td>0.088377</td>\n",
       "      <td>1.458118</td>\n",
       "    </tr>\n",
       "  </tbody>\n",
       "</table>\n",
       "</div>"
      ],
      "text/plain": [
       "        time company  tone_intro  tone_qna   tone_ab  price_change  \\\n",
       "0 2018-02-01    AAPL    2.150873  0.374625  1.776247     -0.056756   \n",
       "1 2018-05-01    AAPL    2.279202  0.935270  1.343933      0.109138   \n",
       "2 2018-07-31    AAPL    2.106742  0.402253  1.704489      0.082873   \n",
       "3 2018-11-01    AAPL    2.369668  0.630252  1.739416     -0.080730   \n",
       "4 2017-01-31    AAPL    2.786710  1.045053  1.741656      0.088377   \n",
       "\n",
       "   vola_change  \n",
       "0     0.286357  \n",
       "1    -0.027829  \n",
       "2     0.471193  \n",
       "3     1.200595  \n",
       "4     1.458118  "
      ]
     },
     "execution_count": 3,
     "metadata": {},
     "output_type": "execute_result"
    }
   ],
   "source": [
    "earnings_stock_apple = one_company_earnings_stock(\"Apple\",[10,10])\n",
    "earnings_stock_apple.head()"
   ]
  },
  {
   "cell_type": "code",
   "execution_count": 4,
   "metadata": {},
   "outputs": [
    {
     "data": {
      "text/html": [
       "<div>\n",
       "<style scoped>\n",
       "    .dataframe tbody tr th:only-of-type {\n",
       "        vertical-align: middle;\n",
       "    }\n",
       "\n",
       "    .dataframe tbody tr th {\n",
       "        vertical-align: top;\n",
       "    }\n",
       "\n",
       "    .dataframe thead th {\n",
       "        text-align: right;\n",
       "    }\n",
       "</style>\n",
       "<table border=\"1\" class=\"dataframe\">\n",
       "  <thead>\n",
       "    <tr style=\"text-align: right;\">\n",
       "      <th></th>\n",
       "      <th>time</th>\n",
       "      <th>company</th>\n",
       "      <th>tone_intro</th>\n",
       "      <th>tone_qna</th>\n",
       "      <th>tone_ab</th>\n",
       "      <th>price_change</th>\n",
       "      <th>vola_change</th>\n",
       "    </tr>\n",
       "  </thead>\n",
       "  <tbody>\n",
       "    <tr>\n",
       "      <th>0</th>\n",
       "      <td>2018-10-25</td>\n",
       "      <td>GOOG</td>\n",
       "      <td>1.778305</td>\n",
       "      <td>1.191620</td>\n",
       "      <td>0.586684</td>\n",
       "      <td>-0.033791</td>\n",
       "      <td>0.173274</td>\n",
       "    </tr>\n",
       "    <tr>\n",
       "      <th>1</th>\n",
       "      <td>2018-07-23</td>\n",
       "      <td>GOOG</td>\n",
       "      <td>1.868101</td>\n",
       "      <td>1.415094</td>\n",
       "      <td>0.453006</td>\n",
       "      <td>0.043541</td>\n",
       "      <td>0.082779</td>\n",
       "    </tr>\n",
       "    <tr>\n",
       "      <th>2</th>\n",
       "      <td>2018-04-23</td>\n",
       "      <td>GOOG</td>\n",
       "      <td>2.259887</td>\n",
       "      <td>1.182772</td>\n",
       "      <td>1.077115</td>\n",
       "      <td>-0.019830</td>\n",
       "      <td>-0.475137</td>\n",
       "    </tr>\n",
       "    <tr>\n",
       "      <th>3</th>\n",
       "      <td>2018-02-01</td>\n",
       "      <td>GOOG</td>\n",
       "      <td>2.312139</td>\n",
       "      <td>0.718798</td>\n",
       "      <td>1.593341</td>\n",
       "      <td>-0.090228</td>\n",
       "      <td>1.673856</td>\n",
       "    </tr>\n",
       "    <tr>\n",
       "      <th>4</th>\n",
       "      <td>2017-10-26</td>\n",
       "      <td>GOOG</td>\n",
       "      <td>1.880141</td>\n",
       "      <td>1.122083</td>\n",
       "      <td>0.758058</td>\n",
       "      <td>0.045064</td>\n",
       "      <td>-0.238424</td>\n",
       "    </tr>\n",
       "  </tbody>\n",
       "</table>\n",
       "</div>"
      ],
      "text/plain": [
       "        time company  tone_intro  tone_qna   tone_ab  price_change  \\\n",
       "0 2018-10-25    GOOG    1.778305  1.191620  0.586684     -0.033791   \n",
       "1 2018-07-23    GOOG    1.868101  1.415094  0.453006      0.043541   \n",
       "2 2018-04-23    GOOG    2.259887  1.182772  1.077115     -0.019830   \n",
       "3 2018-02-01    GOOG    2.312139  0.718798  1.593341     -0.090228   \n",
       "4 2017-10-26    GOOG    1.880141  1.122083  0.758058      0.045064   \n",
       "\n",
       "   vola_change  \n",
       "0     0.173274  \n",
       "1     0.082779  \n",
       "2    -0.475137  \n",
       "3     1.673856  \n",
       "4    -0.238424  "
      ]
     },
     "execution_count": 4,
     "metadata": {},
     "output_type": "execute_result"
    }
   ],
   "source": [
    "earnings_stock_google = one_company_earnings_stock(\"Google\",[10,10])\n",
    "earnings_stock_google.head()"
   ]
  },
  {
   "cell_type": "code",
   "execution_count": 5,
   "metadata": {},
   "outputs": [
    {
     "data": {
      "text/html": [
       "<div>\n",
       "<style scoped>\n",
       "    .dataframe tbody tr th:only-of-type {\n",
       "        vertical-align: middle;\n",
       "    }\n",
       "\n",
       "    .dataframe tbody tr th {\n",
       "        vertical-align: top;\n",
       "    }\n",
       "\n",
       "    .dataframe thead th {\n",
       "        text-align: right;\n",
       "    }\n",
       "</style>\n",
       "<table border=\"1\" class=\"dataframe\">\n",
       "  <thead>\n",
       "    <tr style=\"text-align: right;\">\n",
       "      <th></th>\n",
       "      <th>time</th>\n",
       "      <th>company</th>\n",
       "      <th>tone_intro</th>\n",
       "      <th>tone_qna</th>\n",
       "      <th>tone_ab</th>\n",
       "      <th>price_change</th>\n",
       "      <th>vola_change</th>\n",
       "    </tr>\n",
       "  </thead>\n",
       "  <tbody>\n",
       "    <tr>\n",
       "      <th>0</th>\n",
       "      <td>2018-10-30</td>\n",
       "      <td>FB</td>\n",
       "      <td>1.259876</td>\n",
       "      <td>1.160578</td>\n",
       "      <td>0.099298</td>\n",
       "      <td>-0.018333</td>\n",
       "      <td>-0.303639</td>\n",
       "    </tr>\n",
       "    <tr>\n",
       "      <th>1</th>\n",
       "      <td>2018-07-25</td>\n",
       "      <td>FB</td>\n",
       "      <td>1.351351</td>\n",
       "      <td>1.034956</td>\n",
       "      <td>0.316395</td>\n",
       "      <td>-0.155410</td>\n",
       "      <td>0.605153</td>\n",
       "    </tr>\n",
       "    <tr>\n",
       "      <th>2</th>\n",
       "      <td>2018-04-25</td>\n",
       "      <td>FB</td>\n",
       "      <td>1.471490</td>\n",
       "      <td>0.673092</td>\n",
       "      <td>0.798398</td>\n",
       "      <td>0.067980</td>\n",
       "      <td>0.035802</td>\n",
       "    </tr>\n",
       "    <tr>\n",
       "      <th>3</th>\n",
       "      <td>2018-01-31</td>\n",
       "      <td>FB</td>\n",
       "      <td>1.247554</td>\n",
       "      <td>0.897505</td>\n",
       "      <td>0.350049</td>\n",
       "      <td>-0.028465</td>\n",
       "      <td>1.197812</td>\n",
       "    </tr>\n",
       "    <tr>\n",
       "      <th>4</th>\n",
       "      <td>2017-11-01</td>\n",
       "      <td>FB</td>\n",
       "      <td>1.056803</td>\n",
       "      <td>0.393627</td>\n",
       "      <td>0.663176</td>\n",
       "      <td>0.020555</td>\n",
       "      <td>-0.821518</td>\n",
       "    </tr>\n",
       "  </tbody>\n",
       "</table>\n",
       "</div>"
      ],
      "text/plain": [
       "        time company  tone_intro  tone_qna   tone_ab  price_change  \\\n",
       "0 2018-10-30      FB    1.259876  1.160578  0.099298     -0.018333   \n",
       "1 2018-07-25      FB    1.351351  1.034956  0.316395     -0.155410   \n",
       "2 2018-04-25      FB    1.471490  0.673092  0.798398      0.067980   \n",
       "3 2018-01-31      FB    1.247554  0.897505  0.350049     -0.028465   \n",
       "4 2017-11-01      FB    1.056803  0.393627  0.663176      0.020555   \n",
       "\n",
       "   vola_change  \n",
       "0    -0.303639  \n",
       "1     0.605153  \n",
       "2     0.035802  \n",
       "3     1.197812  \n",
       "4    -0.821518  "
      ]
     },
     "execution_count": 5,
     "metadata": {},
     "output_type": "execute_result"
    }
   ],
   "source": [
    "earnings_stock_facebook = one_company_earnings_stock(\"Facebook\",[10,10])\n",
    "earnings_stock_facebook.head()"
   ]
  },
  {
   "cell_type": "code",
   "execution_count": 6,
   "metadata": {},
   "outputs": [
    {
     "data": {
      "text/html": [
       "<div>\n",
       "<style scoped>\n",
       "    .dataframe tbody tr th:only-of-type {\n",
       "        vertical-align: middle;\n",
       "    }\n",
       "\n",
       "    .dataframe tbody tr th {\n",
       "        vertical-align: top;\n",
       "    }\n",
       "\n",
       "    .dataframe thead th {\n",
       "        text-align: right;\n",
       "    }\n",
       "</style>\n",
       "<table border=\"1\" class=\"dataframe\">\n",
       "  <thead>\n",
       "    <tr style=\"text-align: right;\">\n",
       "      <th></th>\n",
       "      <th>time</th>\n",
       "      <th>company</th>\n",
       "      <th>tone_intro</th>\n",
       "      <th>tone_qna</th>\n",
       "      <th>tone_ab</th>\n",
       "      <th>price_change</th>\n",
       "      <th>vola_change</th>\n",
       "    </tr>\n",
       "  </thead>\n",
       "  <tbody>\n",
       "    <tr>\n",
       "      <th>0</th>\n",
       "      <td>2018-10-25</td>\n",
       "      <td>TWTR</td>\n",
       "      <td>0.257290</td>\n",
       "      <td>1.332659</td>\n",
       "      <td>-1.075369</td>\n",
       "      <td>0.166283</td>\n",
       "      <td>-0.214468</td>\n",
       "    </tr>\n",
       "    <tr>\n",
       "      <th>1</th>\n",
       "      <td>2018-07-27</td>\n",
       "      <td>TWTR</td>\n",
       "      <td>0.401204</td>\n",
       "      <td>1.114674</td>\n",
       "      <td>-0.713470</td>\n",
       "      <td>-0.245416</td>\n",
       "      <td>-0.834133</td>\n",
       "    </tr>\n",
       "    <tr>\n",
       "      <th>2</th>\n",
       "      <td>2018-04-25</td>\n",
       "      <td>TWTR</td>\n",
       "      <td>0.849858</td>\n",
       "      <td>1.676758</td>\n",
       "      <td>-0.826900</td>\n",
       "      <td>0.010407</td>\n",
       "      <td>-0.280025</td>\n",
       "    </tr>\n",
       "    <tr>\n",
       "      <th>3</th>\n",
       "      <td>2018-02-08</td>\n",
       "      <td>TWTR</td>\n",
       "      <td>1.580460</td>\n",
       "      <td>1.659429</td>\n",
       "      <td>-0.078970</td>\n",
       "      <td>0.252142</td>\n",
       "      <td>-0.432899</td>\n",
       "    </tr>\n",
       "    <tr>\n",
       "      <th>4</th>\n",
       "      <td>2017-10-26</td>\n",
       "      <td>TWTR</td>\n",
       "      <td>2.311436</td>\n",
       "      <td>1.406719</td>\n",
       "      <td>0.904716</td>\n",
       "      <td>0.117179</td>\n",
       "      <td>-0.155694</td>\n",
       "    </tr>\n",
       "  </tbody>\n",
       "</table>\n",
       "</div>"
      ],
      "text/plain": [
       "        time company  tone_intro  tone_qna   tone_ab  price_change  \\\n",
       "0 2018-10-25    TWTR    0.257290  1.332659 -1.075369      0.166283   \n",
       "1 2018-07-27    TWTR    0.401204  1.114674 -0.713470     -0.245416   \n",
       "2 2018-04-25    TWTR    0.849858  1.676758 -0.826900      0.010407   \n",
       "3 2018-02-08    TWTR    1.580460  1.659429 -0.078970      0.252142   \n",
       "4 2017-10-26    TWTR    2.311436  1.406719  0.904716      0.117179   \n",
       "\n",
       "   vola_change  \n",
       "0    -0.214468  \n",
       "1    -0.834133  \n",
       "2    -0.280025  \n",
       "3    -0.432899  \n",
       "4    -0.155694  "
      ]
     },
     "execution_count": 6,
     "metadata": {},
     "output_type": "execute_result"
    }
   ],
   "source": [
    "earnings_stock_twitter = one_company_earnings_stock(\"Twitter\",[10,10])\n",
    "earnings_stock_twitter.head()"
   ]
  },
  {
   "cell_type": "code",
   "execution_count": 7,
   "metadata": {},
   "outputs": [
    {
     "data": {
      "text/html": [
       "<div>\n",
       "<style scoped>\n",
       "    .dataframe tbody tr th:only-of-type {\n",
       "        vertical-align: middle;\n",
       "    }\n",
       "\n",
       "    .dataframe tbody tr th {\n",
       "        vertical-align: top;\n",
       "    }\n",
       "\n",
       "    .dataframe thead th {\n",
       "        text-align: right;\n",
       "    }\n",
       "</style>\n",
       "<table border=\"1\" class=\"dataframe\">\n",
       "  <thead>\n",
       "    <tr style=\"text-align: right;\">\n",
       "      <th></th>\n",
       "      <th>time</th>\n",
       "      <th>company</th>\n",
       "      <th>tone_intro</th>\n",
       "      <th>tone_qna</th>\n",
       "      <th>tone_ab</th>\n",
       "      <th>price_change</th>\n",
       "      <th>vola_change</th>\n",
       "    </tr>\n",
       "  </thead>\n",
       "  <tbody>\n",
       "    <tr>\n",
       "      <th>0</th>\n",
       "      <td>2019-01-22</td>\n",
       "      <td>IBM</td>\n",
       "      <td>1.225337</td>\n",
       "      <td>0.636943</td>\n",
       "      <td>0.588395</td>\n",
       "      <td>0.103278</td>\n",
       "      <td>-0.198813</td>\n",
       "    </tr>\n",
       "    <tr>\n",
       "      <th>1</th>\n",
       "      <td>2018-10-16</td>\n",
       "      <td>IBM</td>\n",
       "      <td>1.412503</td>\n",
       "      <td>0.649892</td>\n",
       "      <td>0.762612</td>\n",
       "      <td>-0.130027</td>\n",
       "      <td>0.177912</td>\n",
       "    </tr>\n",
       "    <tr>\n",
       "      <th>2</th>\n",
       "      <td>2018-07-18</td>\n",
       "      <td>IBM</td>\n",
       "      <td>1.325869</td>\n",
       "      <td>0.888287</td>\n",
       "      <td>0.437583</td>\n",
       "      <td>0.011290</td>\n",
       "      <td>-0.028285</td>\n",
       "    </tr>\n",
       "    <tr>\n",
       "      <th>3</th>\n",
       "      <td>2018-04-17</td>\n",
       "      <td>IBM</td>\n",
       "      <td>1.653294</td>\n",
       "      <td>0.781250</td>\n",
       "      <td>0.872044</td>\n",
       "      <td>-0.060312</td>\n",
       "      <td>-0.571391</td>\n",
       "    </tr>\n",
       "    <tr>\n",
       "      <th>4</th>\n",
       "      <td>2018-01-18</td>\n",
       "      <td>IBM</td>\n",
       "      <td>1.229508</td>\n",
       "      <td>1.085973</td>\n",
       "      <td>0.143535</td>\n",
       "      <td>0.000784</td>\n",
       "      <td>-0.233054</td>\n",
       "    </tr>\n",
       "  </tbody>\n",
       "</table>\n",
       "</div>"
      ],
      "text/plain": [
       "        time company  tone_intro  tone_qna   tone_ab  price_change  \\\n",
       "0 2019-01-22     IBM    1.225337  0.636943  0.588395      0.103278   \n",
       "1 2018-10-16     IBM    1.412503  0.649892  0.762612     -0.130027   \n",
       "2 2018-07-18     IBM    1.325869  0.888287  0.437583      0.011290   \n",
       "3 2018-04-17     IBM    1.653294  0.781250  0.872044     -0.060312   \n",
       "4 2018-01-18     IBM    1.229508  1.085973  0.143535      0.000784   \n",
       "\n",
       "   vola_change  \n",
       "0    -0.198813  \n",
       "1     0.177912  \n",
       "2    -0.028285  \n",
       "3    -0.571391  \n",
       "4    -0.233054  "
      ]
     },
     "execution_count": 7,
     "metadata": {},
     "output_type": "execute_result"
    }
   ],
   "source": [
    "earnings_stock_ibm = one_company_earnings_stock(\"IBM\",[10,10])\n",
    "earnings_stock_ibm.head()"
   ]
  },
  {
   "cell_type": "code",
   "execution_count": 8,
   "metadata": {},
   "outputs": [
    {
     "data": {
      "text/html": [
       "<div>\n",
       "<style scoped>\n",
       "    .dataframe tbody tr th:only-of-type {\n",
       "        vertical-align: middle;\n",
       "    }\n",
       "\n",
       "    .dataframe tbody tr th {\n",
       "        vertical-align: top;\n",
       "    }\n",
       "\n",
       "    .dataframe thead th {\n",
       "        text-align: right;\n",
       "    }\n",
       "</style>\n",
       "<table border=\"1\" class=\"dataframe\">\n",
       "  <thead>\n",
       "    <tr style=\"text-align: right;\">\n",
       "      <th></th>\n",
       "      <th>time</th>\n",
       "      <th>company</th>\n",
       "      <th>tone_intro</th>\n",
       "      <th>tone_qna</th>\n",
       "      <th>tone_ab</th>\n",
       "      <th>price_change</th>\n",
       "      <th>vola_change</th>\n",
       "    </tr>\n",
       "  </thead>\n",
       "  <tbody>\n",
       "    <tr>\n",
       "      <th>0</th>\n",
       "      <td>2018-10-25</td>\n",
       "      <td>AMZN</td>\n",
       "      <td>-1.558442</td>\n",
       "      <td>0.694611</td>\n",
       "      <td>-2.253052</td>\n",
       "      <td>-0.074304</td>\n",
       "      <td>0.683891</td>\n",
       "    </tr>\n",
       "    <tr>\n",
       "      <th>1</th>\n",
       "      <td>2018-07-26</td>\n",
       "      <td>AMZN</td>\n",
       "      <td>-1.538462</td>\n",
       "      <td>1.487955</td>\n",
       "      <td>-3.026416</td>\n",
       "      <td>0.003950</td>\n",
       "      <td>1.150113</td>\n",
       "    </tr>\n",
       "    <tr>\n",
       "      <th>2</th>\n",
       "      <td>2018-04-26</td>\n",
       "      <td>AMZN</td>\n",
       "      <td>-1.530612</td>\n",
       "      <td>0.680581</td>\n",
       "      <td>-2.211193</td>\n",
       "      <td>0.060818</td>\n",
       "      <td>-0.624602</td>\n",
       "    </tr>\n",
       "    <tr>\n",
       "      <th>3</th>\n",
       "      <td>2018-02-01</td>\n",
       "      <td>AMZN</td>\n",
       "      <td>-0.854701</td>\n",
       "      <td>1.145931</td>\n",
       "      <td>-2.000632</td>\n",
       "      <td>0.019169</td>\n",
       "      <td>-0.149928</td>\n",
       "    </tr>\n",
       "    <tr>\n",
       "      <th>4</th>\n",
       "      <td>2017-10-26</td>\n",
       "      <td>AMZN</td>\n",
       "      <td>-1.530612</td>\n",
       "      <td>0.543725</td>\n",
       "      <td>-2.074337</td>\n",
       "      <td>0.127623</td>\n",
       "      <td>-0.182551</td>\n",
       "    </tr>\n",
       "  </tbody>\n",
       "</table>\n",
       "</div>"
      ],
      "text/plain": [
       "        time company  tone_intro  tone_qna   tone_ab  price_change  \\\n",
       "0 2018-10-25    AMZN   -1.558442  0.694611 -2.253052     -0.074304   \n",
       "1 2018-07-26    AMZN   -1.538462  1.487955 -3.026416      0.003950   \n",
       "2 2018-04-26    AMZN   -1.530612  0.680581 -2.211193      0.060818   \n",
       "3 2018-02-01    AMZN   -0.854701  1.145931 -2.000632      0.019169   \n",
       "4 2017-10-26    AMZN   -1.530612  0.543725 -2.074337      0.127623   \n",
       "\n",
       "   vola_change  \n",
       "0     0.683891  \n",
       "1     1.150113  \n",
       "2    -0.624602  \n",
       "3    -0.149928  \n",
       "4    -0.182551  "
      ]
     },
     "execution_count": 8,
     "metadata": {},
     "output_type": "execute_result"
    }
   ],
   "source": [
    "earnings_stock_amazon = one_company_earnings_stock(\"Amazon\",[10,10])\n",
    "earnings_stock_amazon.head()"
   ]
  },
  {
   "cell_type": "code",
   "execution_count": 9,
   "metadata": {},
   "outputs": [
    {
     "data": {
      "text/html": [
       "<div>\n",
       "<style scoped>\n",
       "    .dataframe tbody tr th:only-of-type {\n",
       "        vertical-align: middle;\n",
       "    }\n",
       "\n",
       "    .dataframe tbody tr th {\n",
       "        vertical-align: top;\n",
       "    }\n",
       "\n",
       "    .dataframe thead th {\n",
       "        text-align: right;\n",
       "    }\n",
       "</style>\n",
       "<table border=\"1\" class=\"dataframe\">\n",
       "  <thead>\n",
       "    <tr style=\"text-align: right;\">\n",
       "      <th></th>\n",
       "      <th>time</th>\n",
       "      <th>company</th>\n",
       "      <th>tone_intro</th>\n",
       "      <th>tone_qna</th>\n",
       "      <th>tone_ab</th>\n",
       "      <th>price_change</th>\n",
       "      <th>vola_change</th>\n",
       "    </tr>\n",
       "  </thead>\n",
       "  <tbody>\n",
       "    <tr>\n",
       "      <th>0</th>\n",
       "      <td>2018-10-24</td>\n",
       "      <td>MSFT</td>\n",
       "      <td>1.996008</td>\n",
       "      <td>1.189532</td>\n",
       "      <td>0.806476</td>\n",
       "      <td>-0.012089</td>\n",
       "      <td>-0.080741</td>\n",
       "    </tr>\n",
       "    <tr>\n",
       "      <th>1</th>\n",
       "      <td>2018-07-19</td>\n",
       "      <td>MSFT</td>\n",
       "      <td>2.227656</td>\n",
       "      <td>0.762281</td>\n",
       "      <td>1.465374</td>\n",
       "      <td>0.036852</td>\n",
       "      <td>-0.040368</td>\n",
       "    </tr>\n",
       "    <tr>\n",
       "      <th>2</th>\n",
       "      <td>2018-04-26</td>\n",
       "      <td>MSFT</td>\n",
       "      <td>2.286432</td>\n",
       "      <td>0.477281</td>\n",
       "      <td>1.809151</td>\n",
       "      <td>0.008510</td>\n",
       "      <td>0.005038</td>\n",
       "    </tr>\n",
       "    <tr>\n",
       "      <th>3</th>\n",
       "      <td>2018-01-31</td>\n",
       "      <td>MSFT</td>\n",
       "      <td>1.636541</td>\n",
       "      <td>0.693202</td>\n",
       "      <td>0.943339</td>\n",
       "      <td>-0.027205</td>\n",
       "      <td>0.540353</td>\n",
       "    </tr>\n",
       "    <tr>\n",
       "      <th>4</th>\n",
       "      <td>2017-10-26</td>\n",
       "      <td>MSFT</td>\n",
       "      <td>1.602347</td>\n",
       "      <td>0.814664</td>\n",
       "      <td>0.787683</td>\n",
       "      <td>0.073516</td>\n",
       "      <td>-0.219494</td>\n",
       "    </tr>\n",
       "  </tbody>\n",
       "</table>\n",
       "</div>"
      ],
      "text/plain": [
       "        time company  tone_intro  tone_qna   tone_ab  price_change  \\\n",
       "0 2018-10-24    MSFT    1.996008  1.189532  0.806476     -0.012089   \n",
       "1 2018-07-19    MSFT    2.227656  0.762281  1.465374      0.036852   \n",
       "2 2018-04-26    MSFT    2.286432  0.477281  1.809151      0.008510   \n",
       "3 2018-01-31    MSFT    1.636541  0.693202  0.943339     -0.027205   \n",
       "4 2017-10-26    MSFT    1.602347  0.814664  0.787683      0.073516   \n",
       "\n",
       "   vola_change  \n",
       "0    -0.080741  \n",
       "1    -0.040368  \n",
       "2     0.005038  \n",
       "3     0.540353  \n",
       "4    -0.219494  "
      ]
     },
     "execution_count": 9,
     "metadata": {},
     "output_type": "execute_result"
    }
   ],
   "source": [
    "earnings_stock_microsoft = one_company_earnings_stock(\"Microsoft\",[10,10])\n",
    "earnings_stock_microsoft.head()"
   ]
  },
  {
   "cell_type": "code",
   "execution_count": 10,
   "metadata": {},
   "outputs": [],
   "source": [
    "earnings_stock_ebay = one_company_earnings_stock(\"Ebay\",[10,10])"
   ]
  },
  {
   "cell_type": "code",
   "execution_count": 11,
   "metadata": {},
   "outputs": [
    {
     "data": {
      "text/html": [
       "<div>\n",
       "<style scoped>\n",
       "    .dataframe tbody tr th:only-of-type {\n",
       "        vertical-align: middle;\n",
       "    }\n",
       "\n",
       "    .dataframe tbody tr th {\n",
       "        vertical-align: top;\n",
       "    }\n",
       "\n",
       "    .dataframe thead th {\n",
       "        text-align: right;\n",
       "    }\n",
       "</style>\n",
       "<table border=\"1\" class=\"dataframe\">\n",
       "  <thead>\n",
       "    <tr style=\"text-align: right;\">\n",
       "      <th></th>\n",
       "      <th>time</th>\n",
       "      <th>company</th>\n",
       "      <th>tone_intro</th>\n",
       "      <th>tone_qna</th>\n",
       "      <th>tone_ab</th>\n",
       "      <th>price_change</th>\n",
       "      <th>vola_change</th>\n",
       "    </tr>\n",
       "  </thead>\n",
       "  <tbody>\n",
       "    <tr>\n",
       "      <th>0</th>\n",
       "      <td>2018-12-17</td>\n",
       "      <td>ORCL</td>\n",
       "      <td>1.790634</td>\n",
       "      <td>0.515287</td>\n",
       "      <td>1.275347</td>\n",
       "      <td>-0.045176</td>\n",
       "      <td>-0.125360</td>\n",
       "    </tr>\n",
       "    <tr>\n",
       "      <th>1</th>\n",
       "      <td>2018-09-17</td>\n",
       "      <td>ORCL</td>\n",
       "      <td>0.899621</td>\n",
       "      <td>0.120409</td>\n",
       "      <td>0.779212</td>\n",
       "      <td>0.047221</td>\n",
       "      <td>0.659320</td>\n",
       "    </tr>\n",
       "    <tr>\n",
       "      <th>2</th>\n",
       "      <td>2018-06-19</td>\n",
       "      <td>ORCL</td>\n",
       "      <td>0.738151</td>\n",
       "      <td>0.030713</td>\n",
       "      <td>0.707438</td>\n",
       "      <td>-0.071300</td>\n",
       "      <td>-0.309686</td>\n",
       "    </tr>\n",
       "    <tr>\n",
       "      <th>3</th>\n",
       "      <td>2018-03-19</td>\n",
       "      <td>ORCL</td>\n",
       "      <td>0.174622</td>\n",
       "      <td>-0.155867</td>\n",
       "      <td>0.330489</td>\n",
       "      <td>-0.125251</td>\n",
       "      <td>0.836271</td>\n",
       "    </tr>\n",
       "    <tr>\n",
       "      <th>4</th>\n",
       "      <td>2017-12-14</td>\n",
       "      <td>ORCL</td>\n",
       "      <td>0.454545</td>\n",
       "      <td>0.366379</td>\n",
       "      <td>0.088166</td>\n",
       "      <td>-0.035775</td>\n",
       "      <td>-0.648074</td>\n",
       "    </tr>\n",
       "  </tbody>\n",
       "</table>\n",
       "</div>"
      ],
      "text/plain": [
       "        time company  tone_intro  tone_qna   tone_ab  price_change  \\\n",
       "0 2018-12-17    ORCL    1.790634  0.515287  1.275347     -0.045176   \n",
       "1 2018-09-17    ORCL    0.899621  0.120409  0.779212      0.047221   \n",
       "2 2018-06-19    ORCL    0.738151  0.030713  0.707438     -0.071300   \n",
       "3 2018-03-19    ORCL    0.174622 -0.155867  0.330489     -0.125251   \n",
       "4 2017-12-14    ORCL    0.454545  0.366379  0.088166     -0.035775   \n",
       "\n",
       "   vola_change  \n",
       "0    -0.125360  \n",
       "1     0.659320  \n",
       "2    -0.309686  \n",
       "3     0.836271  \n",
       "4    -0.648074  "
      ]
     },
     "execution_count": 11,
     "metadata": {},
     "output_type": "execute_result"
    }
   ],
   "source": [
    "earnings_stock_oracle = one_company_earnings_stock(\"Oracle\",[10,10])\n",
    "earnings_stock_oracle.head()"
   ]
  },
  {
   "cell_type": "code",
   "execution_count": 12,
   "metadata": {},
   "outputs": [],
   "source": [
    "earnings_stock_intel = one_company_earnings_stock(\"Intel\",[10,10])"
   ]
  },
  {
   "cell_type": "code",
   "execution_count": 13,
   "metadata": {},
   "outputs": [],
   "source": [
    "# Merge the earnings call and stock data from selected tech companies\n",
    "earnings_stock = pd.concat([earnings_stock_apple,earnings_stock_amazon,earnings_stock_microsoft,\n",
    "                           earnings_stock_google,earnings_stock_facebook,earnings_stock_twitter,\n",
    "                           earnings_stock_ibm,earnings_stock_ebay,earnings_stock_oracle,earnings_stock_intel])"
   ]
  },
  {
   "cell_type": "code",
   "execution_count": 14,
   "metadata": {},
   "outputs": [
    {
     "data": {
      "text/html": [
       "<div>\n",
       "<style scoped>\n",
       "    .dataframe tbody tr th:only-of-type {\n",
       "        vertical-align: middle;\n",
       "    }\n",
       "\n",
       "    .dataframe tbody tr th {\n",
       "        vertical-align: top;\n",
       "    }\n",
       "\n",
       "    .dataframe thead th {\n",
       "        text-align: right;\n",
       "    }\n",
       "</style>\n",
       "<table border=\"1\" class=\"dataframe\">\n",
       "  <thead>\n",
       "    <tr style=\"text-align: right;\">\n",
       "      <th></th>\n",
       "      <th>time</th>\n",
       "      <th>eps</th>\n",
       "    </tr>\n",
       "  </thead>\n",
       "  <tbody>\n",
       "    <tr>\n",
       "      <th>0</th>\n",
       "      <td>2019-02-07</td>\n",
       "      <td>24.00</td>\n",
       "    </tr>\n",
       "    <tr>\n",
       "      <th>1</th>\n",
       "      <td>2018-10-25</td>\n",
       "      <td>50.00</td>\n",
       "    </tr>\n",
       "    <tr>\n",
       "      <th>2</th>\n",
       "      <td>2018-07-27</td>\n",
       "      <td>0.00</td>\n",
       "    </tr>\n",
       "    <tr>\n",
       "      <th>3</th>\n",
       "      <td>2018-04-25</td>\n",
       "      <td>33.33</td>\n",
       "    </tr>\n",
       "    <tr>\n",
       "      <th>4</th>\n",
       "      <td>2018-02-08</td>\n",
       "      <td>35.71</td>\n",
       "    </tr>\n",
       "  </tbody>\n",
       "</table>\n",
       "</div>"
      ],
      "text/plain": [
       "        time    eps\n",
       "0 2019-02-07  24.00\n",
       "1 2018-10-25  50.00\n",
       "2 2018-07-27   0.00\n",
       "3 2018-04-25  33.33\n",
       "4 2018-02-08  35.71"
      ]
     },
     "execution_count": 14,
     "metadata": {},
     "output_type": "execute_result"
    }
   ],
   "source": [
    "eps = load_eps('Twitter')\n",
    "eps.head()"
   ]
  },
  {
   "cell_type": "code",
   "execution_count": 15,
   "metadata": {},
   "outputs": [],
   "source": [
    "# Load earning surprise data and merge with earnings call tones for each company\n",
    "eps = load_eps('Twitter')\n",
    "data_twitter = eps.merge(earnings_stock_twitter, on = 'time')\n",
    "eps = load_eps('Facebook')\n",
    "data_facebook = eps.merge(earnings_stock_facebook, on = 'time')\n",
    "eps = load_eps('Apple')\n",
    "data_apple = eps.merge(earnings_stock_apple, on = 'time')\n",
    "eps = load_eps('Amazon')\n",
    "data_amazon = eps.merge(earnings_stock_amazon, on = 'time')\n",
    "eps = load_eps('Google')\n",
    "data_google = eps.merge(earnings_stock_google, on = 'time')\n",
    "eps = load_eps('Microsoft')\n",
    "data_microsoft = eps.merge(earnings_stock_microsoft, on = 'time')\n",
    "eps = load_eps('Ebay')\n",
    "data_ebay = eps.merge(earnings_stock_ebay, on = 'time')\n",
    "eps = load_eps('IBM')\n",
    "data_ibm = eps.merge(earnings_stock_ibm, on = 'time')\n",
    "eps = load_eps('Oracle')\n",
    "data_oracle = eps.merge(earnings_stock_oracle, on = 'time')\n",
    "eps = load_eps('Intel')\n",
    "data_intel = eps.merge(earnings_stock_intel, on = 'time')"
   ]
  },
  {
   "cell_type": "code",
   "execution_count": 16,
   "metadata": {},
   "outputs": [],
   "source": [
    "data_all = pd.concat([data_apple,data_amazon,data_microsoft,\n",
    "                           data_google,data_facebook,data_twitter,\n",
    "                           data_ibm,data_ebay,data_oracle,data_intel])"
   ]
  },
  {
   "cell_type": "code",
   "execution_count": 17,
   "metadata": {},
   "outputs": [],
   "source": [
    "# Plot the earnings call tones against stock changes\n",
    "def plot_senti_vs_stock(earnings_stock,company_name):\n",
    "    fig,axs = plt.subplots(2,2,figsize = (10,8),constrained_layout=True)\n",
    "    fig.suptitle('stock change around the call VS tone (' +company_name + ')',fontsize = 20)\n",
    "\n",
    "    axs[0,0].plot(earnings_stock['tone_intro'],earnings_stock['price_change']*100,'r*')\n",
    "    axs[0,0].tick_params('tone', colors='r')\n",
    "    axs[0,0].set_ylabel('price change (%)', color='b',fontsize = 20)\n",
    "    axs[0,1].plot(earnings_stock['tone_ab'],earnings_stock['price_change']*100,'b*')\n",
    "    axs[0,1].tick_params('tone', colors='b')\n",
    "    \n",
    "    axs[1,0].plot(earnings_stock['tone_intro'],earnings_stock['vola_change']*100,'r*')\n",
    "    axs[1,0].tick_params('introduction tone', colors='r')\n",
    "    axs[1,0].set_ylabel('vola change (%)', color='b',fontsize = 20)\n",
    "    axs[1,0].set_xlabel('introduction tone',fontsize = 20)\n",
    "    \n",
    "    axs[1,1].plot(earnings_stock['tone_ab'],earnings_stock['vola_change']*100,'b*')\n",
    "    axs[1,1].tick_params('abnormal tone', colors='b')\n",
    "    #axs[1,1].set_ylabel('vola change (%)', color='b',fontsize = 20)\n",
    "    axs[1,1].set_xlabel('abnormal tone',fontsize = 20)\n",
    "    \n",
    "    plt.show()\n",
    "    "
   ]
  },
  {
   "cell_type": "code",
   "execution_count": 18,
   "metadata": {
    "scrolled": true
   },
   "outputs": [
    {
     "data": {
      "image/png": "[encoded data removed]",
      "text/plain": [
       "<Figure size 720x576 with 4 Axes>"
      ]
     },
     "metadata": {},
     "output_type": "display_data"
    }
   ],
   "source": [
    "plot_senti_vs_stock(data_all,\"tech companies\")"
   ]
  },
  {
   "cell_type": "code",
   "execution_count": 19,
   "metadata": {},
   "outputs": [
    {
     "data": {
      "text/plain": [
       "363"
      ]
     },
     "execution_count": 19,
     "metadata": {},
     "output_type": "execute_result"
    }
   ],
   "source": [
    "len(data_all)"
   ]
  },
  {
   "cell_type": "code",
   "execution_count": 20,
   "metadata": {},
   "outputs": [
    {
     "data": {
      "text/plain": [
       "485"
      ]
     },
     "execution_count": 20,
     "metadata": {},
     "output_type": "execute_result"
    }
   ],
   "source": [
    "len(earnings_stock)"
   ]
  },
  {
   "cell_type": "markdown",
   "metadata": {},
   "source": [
    "# implement decision tree regressor "
   ]
  },
  {
   "cell_type": "code",
   "execution_count": 21,
   "metadata": {},
   "outputs": [],
   "source": [
    "from sklearn.tree import DecisionTreeRegressor\n",
    "from sklearn.tree import export_graphviz  \n",
    "from sklearn.model_selection import KFold\n"
   ]
  },
  {
   "cell_type": "code",
   "execution_count": 22,
   "metadata": {},
   "outputs": [],
   "source": [
    "X = data_all[['eps','tone_ab']]\n",
    "y = data_all[['price_change','vola_change']]"
   ]
  },
  {
   "cell_type": "code",
   "execution_count": 93,
   "metadata": {},
   "outputs": [],
   "source": [
    "# Fit a decision tree regressor to the data\n",
    "# Use k-fold cross validation to find the optimal hyperparameter (tree depth)\n",
    "def find_best_model(X,y,n_splits,depths):\n",
    "    \n",
    "    scores = []\n",
    "    kf = KFold(n_splits = n_splits, shuffle = True, random_state = 9)\n",
    "    for depth in depths:\n",
    "        \n",
    "        kscore = []\n",
    "        # Compute the test score of the model for each of K folds at fixed tree depth\n",
    "        for train_index, test_index in kf.split(X):\n",
    "            X_train,X_test = X.iloc[train_index],X.iloc[test_index]\n",
    "            y_train,y_test = y.iloc[train_index],y.iloc[test_index]\n",
    "            regressor = DecisionTreeRegressor(max_depth = depth)\n",
    "            regressor.fit(X_train, y_train)\n",
    "            test_score = regressor.score(X_test, y_test)\n",
    "            kscore.append(test_score)    \n",
    "        scores.append(np.max(kscore))\n",
    "            \n",
    "    return scores   \n",
    "    "
   ]
  },
  {
   "cell_type": "code",
   "execution_count": 94,
   "metadata": {},
   "outputs": [
    {
     "data": {
      "text/plain": [
       "Text(0,0.5,'Test score of the tree')"
      ]
     },
     "execution_count": 94,
     "metadata": {},
     "output_type": "execute_result"
    },
    {
     "data": {
      "image/png": "[encoded data removed]",
      "text/plain": [
       "<Figure size 432x288 with 1 Axes>"
      ]
     },
     "metadata": {},
     "output_type": "display_data"
    }
   ],
   "source": [
    "depths = list(range(2,13))\n",
    "n_splits = 10\n",
    "scores = find_best_model(X, y, n_splits, depths)\n",
    "plt.plot(depths, scores)\n",
    "plt.xlabel('Depth of the tree')\n",
    "plt.ylabel('Test score of the tree')"
   ]
  },
  {
   "cell_type": "markdown",
   "metadata": {},
   "source": [
    "### The best tree depth is 8"
   ]
  },
  {
   "cell_type": "code",
   "execution_count": 95,
   "metadata": {},
   "outputs": [
    {
     "data": {
      "text/plain": [
       "DecisionTreeRegressor(criterion='mse', max_depth=8, max_features=None,\n",
       "           max_leaf_nodes=None, min_impurity_decrease=0.0,\n",
       "           min_impurity_split=None, min_samples_leaf=1,\n",
       "           min_samples_split=2, min_weight_fraction_leaf=0.0,\n",
       "           presort=False, random_state=None, splitter='best')"
      ]
     },
     "execution_count": 95,
     "metadata": {},
     "output_type": "execute_result"
    }
   ],
   "source": [
    "# Fit a decision tree of depth 8 with all data\n",
    "regressor = DecisionTreeRegressor(max_depth = 8)\n",
    "regressor.fit(X, y)"
   ]
  },
  {
   "cell_type": "code",
   "execution_count": 97,
   "metadata": {},
   "outputs": [],
   "source": [
    "y_pred = regressor.predict(X)"
   ]
  },
  {
   "cell_type": "code",
   "execution_count": 98,
   "metadata": {},
   "outputs": [
    {
     "data": {
      "text/plain": [
       "DecisionTreeRegressor(criterion='mse', max_depth=8, max_features=None,\n",
       "           max_leaf_nodes=None, min_impurity_decrease=0.0,\n",
       "           min_impurity_split=None, min_samples_leaf=1,\n",
       "           min_samples_split=2, min_weight_fraction_leaf=0.0,\n",
       "           presort=False, random_state=None, splitter='best')"
      ]
     },
     "execution_count": 98,
     "metadata": {},
     "output_type": "execute_result"
    }
   ],
   "source": [
    "regressor"
   ]
  },
  {
   "cell_type": "code",
   "execution_count": 99,
   "metadata": {},
   "outputs": [
    {
     "data": {
      "image/png": "[encoded data removed]",
      "text/plain": [
       "<Figure size 720x576 with 4 Axes>"
      ]
     },
     "metadata": {},
     "output_type": "display_data"
    }
   ],
   "source": [
    "fig,axs = plt.subplots(2,2,figsize = (10,8),constrained_layout=True)\n",
    "#fig.suptitle('stock change around earnings call VS prediction',fontsize = 20)\n",
    "axs[0,0].plot(X['tone_ab'],y['price_change']*100,'r*')\n",
    "axs[0,0].plot(X['tone_ab'],y_pred[:,0]*100,'bo')\n",
    "axs[0,0].tick_params('abnormal tone', colors='r')\n",
    "axs[0,0].set_ylabel('price change (%)', color='k',fontsize = 20)\n",
    "axs[0,0].set_xlabel('abnormal tone',fontsize = 20)\n",
    "axs[0,0].legend(['data','model'])\n",
    "\n",
    "axs[0,1].plot(X['tone_ab'],y['vola_change']*100,'r*')\n",
    "axs[0,1].plot(X['tone_ab'],y_pred[:,1]*100,'bo')\n",
    "axs[0,1].tick_params('abnormal tone', colors='r')\n",
    "axs[0,1].set_ylabel('volatility change (%)', color='k',fontsize = 20)\n",
    "axs[0,1].set_xlabel('abnormal tone',fontsize = 20)\n",
    "\n",
    "axs[1,0].plot(X['eps'],y['price_change']*100,'r*')\n",
    "axs[1,0].plot(X['eps'],y_pred[:,0]*100,'bo')\n",
    "axs[1,0].set_xlabel('earnings surprise(%)',fontsize = 20)\n",
    "axs[1,0].tick_params('earnings surprise', colors='r')\n",
    "axs[1,0].set_ylabel('price change (%)', color='k',fontsize = 20)\n",
    "axs[1,0].set_xscale('log')\n",
    "\n",
    "axs[1,1].plot(X['eps'],y['vola_change']*100,'r*')\n",
    "axs[1,1].plot(X['eps'],y_pred[:,1]*100,'bo')\n",
    "axs[1,1].tick_params('earnings surprise', colors='r')\n",
    "axs[1,1].set_ylabel('volatility change (%)', color='k',fontsize = 20)\n",
    "axs[1,1].set_xscale('log')\n",
    "axs[1,1].set_xlabel('earnings surprise(%)',fontsize = 20)\n",
    "\n",
    "plt.show()    \n",
    "fig.savefig('/Users/leonardo_da_cina/Desktop/stock_vs_model.png')"
   ]
  },
  {
   "cell_type": "code",
   "execution_count": 100,
   "metadata": {},
   "outputs": [],
   "source": [
    "# Save the model \n",
    "p = os.path.join(os.getcwd(), \"stock_prediction_model.v2\")\n",
    "with open(p, 'wb') as f:\n",
    "    pickle.dump(regressor, f)"
   ]
  },
  {
   "cell_type": "code",
   "execution_count": 101,
   "metadata": {},
   "outputs": [],
   "source": [
    "# Reload the model\n",
    "p = os.path.join(os.getcwd(), \"stock_prediction_model.v2\")\n",
    "with open(p, 'rb') as f2:\n",
    "    model = pickle.load(f2)"
   ]
  }
 ],
 "metadata": {
  "kernelspec": {
   "display_name": "Python 3",
   "language": "python",
   "name": "python3"
  },
  "language_info": {
   "codemirror_mode": {
    "name": "ipython",
    "version": 3
   },
   "file_extension": ".py",
   "mimetype": "text/x-python",
   "name": "python",
   "nbconvert_exporter": "python",
   "pygments_lexer": "ipython3",
   "version": "3.6.8"
  }
 },
 "nbformat": 4,
 "nbformat_minor": 2
}
