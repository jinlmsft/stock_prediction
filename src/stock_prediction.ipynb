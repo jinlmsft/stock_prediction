{
 "cells": [
  {
   "cell_type": "markdown",
   "metadata": {},
   "source": [
    "# Predicting a company's stock change right after earnings call \n",
    "## It is a decision tree model that takes earnings call transcript and earnings surprise and spits out percentage change of stock price and volatility\n",
    "Modify 2nd cell with company name and url of latest earnings call from seekingalpha.com, then run all cells sequentially.You might also need to add latest earnings surprise to the XX_eps.csv file under data/ as well if it is not updated. "
   ]
  },
  {
   "cell_type": "code",
   "execution_count": 1,
   "metadata": {},
   "outputs": [
    {
     "name": "stdout",
     "output_type": "stream",
     "text": [
      " ...Loading Master Dictionary 85000\n",
      "Master Dictionary loaded from file: \n",
      "  LoughranMcDonald_MasterDictionary_2014.csv\n",
      "  85,131 words loaded in master_dictionary.\n",
      "\n"
     ]
    }
   ],
   "source": [
    "from data_prep import * \n",
    "import pickle"
   ]
  },
  {
   "cell_type": "code",
   "execution_count": 2,
   "metadata": {},
   "outputs": [],
   "source": [
    "url = \"https://seekingalpha.com/article/4237346-amazon-com-inc-amzn-q4-2018-results-earnings-call-transcript\"\n",
    "company_name = 'Amazon'"
   ]
  },
  {
   "cell_type": "code",
   "execution_count": 3,
   "metadata": {},
   "outputs": [],
   "source": [
    "# Main function for stock prediction\n",
    "# Inputs: url of latest earnings call and company name\n",
    "# Outputs: stock price and volatility change \n",
    "def post_call_stock_prediction(url, company_name):\n",
    "    \n",
    "    # Scrape the earnings call transcript and put it in a dataframe\n",
    "    time_str, company, title, full_text = get_one_earnings_call(url)\n",
    "    latest_call = pd.DataFrame(columns = ['time','company','title','full_text','url'])\n",
    "    latest_call.loc[0] = [time_str,company,title,full_text,url]\n",
    "    # Convert the time string to Pandas datetime\n",
    "    # There is about a few hours to half day delay btw earnings call and the time the transcript was posted\n",
    "    time_earnings = pd.to_datetime(latest_call['time']) - timedelta(days=0.5)\n",
    "    time_earnings = pd.to_datetime(time_earnings.apply(datetime.date))\n",
    "    \n",
    "    # Extract tones from the earnings call transcript\n",
    "    tones = latest_call['full_text'].apply(parse_one_call_transcript)\n",
    "    tone_intro = []\n",
    "    tone_qna = []\n",
    "    tone_ab = []\n",
    "    for tone in tones:\n",
    "        tone_intro.append(tone[0])\n",
    "        tone_qna.append(tone[1])\n",
    "        tone_ab.append(tone[2])\n",
    "    earnings_stock = pd.DataFrame(time_earnings,columns = ['time'])\n",
    "    ticker = ticker_list[company_name] \n",
    "    earnings_stock['company'] = ticker\n",
    "    earnings_stock['tone_intro'] = tone_intro\n",
    "    earnings_stock['tone_qna'] = tone_qna\n",
    "    earnings_stock['tone_ab'] = tone_ab    \n",
    "    \n",
    "    # Get the stock data from Yahoo finance and compute the ground-truth changes in the stock\n",
    "    time_window = [10,10] #ten days before and after call\n",
    "    stock_change = earnings_stock['time'].apply(compute_stock_prop,args = (ticker,time_window))\n",
    "    price_change = []\n",
    "    vola_change = []\n",
    "    for change in stock_change:\n",
    "        price_change.append(change[0])\n",
    "        vola_change.append(change[1])\n",
    "    \n",
    "    earnings_stock['price_change'] = price_change\n",
    "    earnings_stock['vola_change'] = vola_change   \n",
    "\n",
    "    # Load earnings surprise data and merge with earnings call tones and stock changes\n",
    "    eps_latest = load_eps(company_name)\n",
    "    data_latest = eps_latest.merge(earnings_stock,on = 'time')\n",
    "    print(data_latest)\n",
    "    X_latest = data_latest[['eps','tone_ab']]\n",
    "    y_latest = data_latest[['price_change','vola_change']]\n",
    "    \n",
    "    # Load pre-trained model\n",
    "    p = os.path.join(os.getcwd(), \"stock_prediction_model.best\")\n",
    "    with open(p, 'rb') as f2:\n",
    "        best_model = pickle.load(f2)  \n",
    "    \n",
    "    # Predict stock price and volatility changes using the model\n",
    "    y_pred_latest = best_model.predict(X_latest)\n",
    "    real_price_change = round(y_latest['price_change'][0]*10000)/100\n",
    "    predicted_price_change = round(y_pred_latest[0,0]*10000)/100\n",
    "    real_vola_change = round(y_latest['vola_change'][0]*10000)/100\n",
    "    predicted_vola_change = round(y_pred_latest[0,1]*10000)/100\n",
    "    print(company_name +' stock price change:' + str(real_price_change) + '%')\n",
    "    print('predicted price change: ' + str(predicted_price_change) + '%')\n",
    "    print(company_name +' stock volatility change:' + str(real_vola_change) + '%')\n",
    "    print('predicted volatility change: ' + str(predicted_vola_change) + '%')\n",
    "    "
   ]
  },
  {
   "cell_type": "code",
   "execution_count": 4,
   "metadata": {},
   "outputs": [
    {
     "name": "stdout",
     "output_type": "stream",
     "text": [
      "        time   eps company  tone_intro  tone_qna  tone_ab  price_change  \\\n",
      "0 2019-01-31  8.83    AMZN   -1.550388  1.097143 -2.64753     -0.021386   \n",
      "\n",
      "   vola_change  \n",
      "0     -0.39332  \n",
      "Amazon stock price change:-2.14%\n",
      "predicted price change: -2.07%\n",
      "Amazon stock volatility change:-39.33%\n",
      "predicted volatility change: 21.51%\n"
     ]
    }
   ],
   "source": [
    "post_call_stock_prediction(url, company_name)"
   ]
  },
  {
   "cell_type": "code",
   "execution_count": null,
   "metadata": {},
   "outputs": [],
   "source": []
  }
 ],
 "metadata": {
  "kernelspec": {
   "display_name": "Python 3",
   "language": "python",
   "name": "python3"
  },
  "language_info": {
   "codemirror_mode": {
    "name": "ipython",
    "version": 3
   },
   "file_extension": ".py",
   "mimetype": "text/x-python",
   "name": "python",
   "nbconvert_exporter": "python",
   "pygments_lexer": "ipython3",
   "version": "3.6.8"
  }
 },
 "nbformat": 4,
 "nbformat_minor": 2
}
